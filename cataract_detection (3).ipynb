{
  "nbformat": 4,
  "nbformat_minor": 0,
  "metadata": {
    "colab": {
      "provenance": []
    },
    "kernelspec": {
      "name": "python3",
      "display_name": "Python 3"
    },
    "language_info": {
      "name": "python"
    }
  },
  "cells": [
    {
      "cell_type": "markdown",
      "source": [
        "## Cataract Detection\n",
        "\n",
        "This colab notebook is to detect cataract from eye image dataset using Deep Learning Algorithms. I aim to use CNN and VGG19 to do so.\n",
        "And then compare them to see which works better!"
      ],
      "metadata": {
        "id": "WNC9hxG9sO1w"
      }
    },
    {
      "cell_type": "markdown",
      "source": [
        "### Step - 01: Including all the necessory librabries in Python to perform the operations."
      ],
      "metadata": {
        "id": "jpLKtrcqPGzt"
      }
    },
    {
      "cell_type": "code",
      "source": [
        "!pip install gdown"
      ],
      "metadata": {
        "colab": {
          "base_uri": "https://localhost:8080/"
        },
        "id": "Y9lkJaBsU0uI",
        "outputId": "02e7fbe1-0921-468d-f64c-30185cdbf43f"
      },
      "execution_count": 1,
      "outputs": [
        {
          "output_type": "stream",
          "name": "stdout",
          "text": [
            "Requirement already satisfied: gdown in /usr/local/lib/python3.11/dist-packages (5.2.0)\n",
            "Requirement already satisfied: beautifulsoup4 in /usr/local/lib/python3.11/dist-packages (from gdown) (4.13.4)\n",
            "Requirement already satisfied: filelock in /usr/local/lib/python3.11/dist-packages (from gdown) (3.18.0)\n",
            "Requirement already satisfied: requests[socks] in /usr/local/lib/python3.11/dist-packages (from gdown) (2.32.3)\n",
            "Requirement already satisfied: tqdm in /usr/local/lib/python3.11/dist-packages (from gdown) (4.67.1)\n",
            "Requirement already satisfied: soupsieve>1.2 in /usr/local/lib/python3.11/dist-packages (from beautifulsoup4->gdown) (2.7)\n",
            "Requirement already satisfied: typing-extensions>=4.0.0 in /usr/local/lib/python3.11/dist-packages (from beautifulsoup4->gdown) (4.13.2)\n",
            "Requirement already satisfied: charset-normalizer<4,>=2 in /usr/local/lib/python3.11/dist-packages (from requests[socks]->gdown) (3.4.2)\n",
            "Requirement already satisfied: idna<4,>=2.5 in /usr/local/lib/python3.11/dist-packages (from requests[socks]->gdown) (3.10)\n",
            "Requirement already satisfied: urllib3<3,>=1.21.1 in /usr/local/lib/python3.11/dist-packages (from requests[socks]->gdown) (2.4.0)\n",
            "Requirement already satisfied: certifi>=2017.4.17 in /usr/local/lib/python3.11/dist-packages (from requests[socks]->gdown) (2025.4.26)\n",
            "Requirement already satisfied: PySocks!=1.5.7,>=1.5.6 in /usr/local/lib/python3.11/dist-packages (from requests[socks]->gdown) (1.7.1)\n"
          ]
        }
      ]
    },
    {
      "cell_type": "code",
      "source": [
        "!gdown --id \"1Msqv0zdpojrkJYhp931Hsl3eECvCrXTp\" -O archive.zip"
      ],
      "metadata": {
        "colab": {
          "base_uri": "https://localhost:8080/"
        },
        "id": "QWVFMg-sVADn",
        "outputId": "3bd0709e-f41d-486c-aedc-dacb702ae661"
      },
      "execution_count": 6,
      "outputs": [
        {
          "output_type": "stream",
          "name": "stdout",
          "text": [
            "/usr/local/lib/python3.11/dist-packages/gdown/__main__.py:140: FutureWarning: Option `--id` was deprecated in version 4.3.1 and will be removed in 5.0. You don't need to pass it anymore to use a file ID.\n",
            "  warnings.warn(\n",
            "Downloading...\n",
            "From (original): https://drive.google.com/uc?id=1Msqv0zdpojrkJYhp931Hsl3eECvCrXTp\n",
            "From (redirected): https://drive.google.com/uc?id=1Msqv0zdpojrkJYhp931Hsl3eECvCrXTp&confirm=t&uuid=e6d5ef96-1e8c-461c-b224-3bd86d9410a4\n",
            "To: /content/archive.zip\n",
            "100% 529M/529M [00:07<00:00, 67.4MB/s]\n"
          ]
        }
      ]
    },
    {
      "cell_type": "code",
      "source": [
        "!unzip archive.zip"
      ],
      "metadata": {
        "colab": {
          "base_uri": "https://localhost:8080/"
        },
        "id": "mQ4FaS_cW4uI",
        "outputId": "e3e58cac-39df-46a3-d2f1-418036eccade"
      },
      "execution_count": 7,
      "outputs": [
        {
          "output_type": "stream",
          "name": "stdout",
          "text": [
            "Archive:  archive.zip\n",
            "  inflating: processed_images/test/normal/image_248.png  \n",
            "  inflating: processed_images/test/normal/image_252.png  \n",
            "  inflating: processed_images/test/normal/image_280.png  \n",
            "  inflating: processed_images/test/normal/image_275.png  \n",
            "  inflating: processed_images/test/normal/image_260.png  \n",
            "  inflating: processed_images/test/normal/image_292.png  \n",
            "  inflating: processed_images/test/normal/image_282.png  \n",
            "  inflating: processed_images/test/normal/image_255.png  \n",
            "  inflating: processed_images/test/normal/image_287.png  \n",
            "  inflating: processed_images/test/normal/image_299.png  \n",
            "  inflating: processed_images/test/normal/image_263.png  \n",
            "  inflating: processed_images/test/normal/image_271.png  \n",
            "  inflating: processed_images/test/normal/image_274.png  \n",
            "  inflating: processed_images/test/normal/image_301.png  \n",
            "  inflating: processed_images/test/normal/image_303.png  \n",
            "  inflating: processed_images/test/normal/image_281.png  \n",
            "  inflating: processed_images/test/normal/image_262.png  \n",
            "  inflating: processed_images/test/normal/image_285.png  \n",
            "  inflating: processed_images/test/normal/image_283.png  \n",
            "  inflating: processed_images/test/normal/image_294.png  \n",
            "  inflating: processed_images/test/normal/image_302.png  \n",
            "  inflating: processed_images/test/normal/image_267.png  \n",
            "  inflating: processed_images/test/normal/image_288.png  \n",
            "  inflating: processed_images/test/normal/image_296.png  \n",
            "  inflating: processed_images/test/normal/image_305.png  \n",
            "  inflating: processed_images/test/normal/image_295.png  \n",
            "  inflating: processed_images/test/normal/image_298.png  \n",
            "  inflating: processed_images/test/normal/image_276.png  \n",
            "  inflating: processed_images/test/normal/image_265.png  \n",
            "  inflating: processed_images/test/normal/image_272.png  \n",
            "  inflating: processed_images/test/normal/image_286.png  \n",
            "  inflating: processed_images/test/normal/image_297.png  \n",
            "  inflating: processed_images/test/normal/image_259.png  \n",
            "  inflating: processed_images/test/normal/image_246.png  \n",
            "  inflating: processed_images/test/normal/image_300.png  \n",
            "  inflating: processed_images/test/normal/image_289.png  \n",
            "  inflating: processed_images/test/normal/image_291.png  \n",
            "  inflating: processed_images/test/normal/image_251.png  \n",
            "  inflating: processed_images/test/normal/image_278.png  \n",
            "  inflating: processed_images/test/normal/image_277.png  \n",
            "  inflating: processed_images/test/normal/image_284.png  \n",
            "  inflating: processed_images/test/normal/image_254.png  \n",
            "  inflating: processed_images/test/normal/image_293.png  \n",
            "  inflating: processed_images/test/cataract/image_276.png  \n",
            "  inflating: processed_images/test/cataract/image_300.png  \n",
            "  inflating: processed_images/test/normal/image_247.png  \n",
            "  inflating: processed_images/test/normal/image_290.png  \n",
            "  inflating: processed_images/test/normal/image_249.png  \n",
            "  inflating: processed_images/test/normal/image_261.png  \n",
            "  inflating: processed_images/test/cataract/image_306.png  \n",
            "  inflating: processed_images/test/cataract/image_305.png  \n",
            "  inflating: processed_images/test/normal/image_270.png  \n",
            "  inflating: processed_images/test/normal/image_268.png  \n",
            "  inflating: processed_images/test/normal/image_250.png  \n",
            "  inflating: processed_images/test/normal/image_264.png  \n",
            "  inflating: processed_images/test/normal/image_269.png  \n",
            "  inflating: processed_images/test/cataract/image_286.png  \n",
            "  inflating: processed_images/test/cataract/image_301.png  \n",
            "  inflating: processed_images/test/cataract/image_279.png  \n",
            "  inflating: processed_images/test/normal/image_256.png  \n",
            "  inflating: processed_images/test/cataract/image_302.png  \n",
            "  inflating: processed_images/test/cataract/image_299.png  \n",
            "  inflating: processed_images/test/cataract/image_255.png  \n",
            "  inflating: processed_images/test/cataract/image_264.png  \n",
            "  inflating: processed_images/test/cataract/image_280.png  \n",
            "  inflating: processed_images/test/cataract/image_277.png  \n",
            "  inflating: processed_images/test/normal/image_279.png  \n",
            "  inflating: processed_images/test/cataract/image_294.png  \n",
            "  inflating: processed_images/test/cataract/image_284.png  \n",
            "  inflating: processed_images/test/cataract/image_251.png  \n",
            "  inflating: processed_images/test/normal/image_304.png  \n",
            "  inflating: processed_images/test/cataract/image_304.png  \n",
            "  inflating: processed_images/test/cataract/image_303.png  \n",
            "  inflating: processed_images/test/cataract/image_298.png  \n",
            "  inflating: processed_images/test/cataract/image_265.png  \n",
            "  inflating: processed_images/test/cataract/image_292.png  \n",
            "  inflating: processed_images/test/cataract/image_282.png  \n",
            "  inflating: processed_images/test/cataract/image_274.png  \n",
            "  inflating: processed_images/test/normal/image_257.png  \n",
            "  inflating: processed_images/test/cataract/image_257.png  \n",
            "  inflating: processed_images/test/cataract/image_256.png  \n",
            "  inflating: processed_images/test/cataract/image_271.png  \n",
            "  inflating: processed_images/test/cataract/image_289.png  \n",
            "  inflating: processed_images/test/cataract/image_288.png  \n",
            "  inflating: processed_images/test/cataract/image_275.png  \n",
            "  inflating: processed_images/test/cataract/image_287.png  \n",
            "  inflating: processed_images/test/cataract/image_293.png  \n",
            "  inflating: processed_images/test/cataract/image_268.png  \n",
            "  inflating: processed_images/test/cataract/image_295.png  \n",
            "  inflating: processed_images/test/cataract/image_258.png  \n",
            "  inflating: processed_images/test/cataract/image_253.png  \n",
            "  inflating: processed_images/test/normal/image_273.png  \n",
            "  inflating: processed_images/test/cataract/image_269.png  \n",
            "  inflating: processed_images/test/cataract/image_267.png  \n",
            "  inflating: processed_images/test/cataract/image_261.png  \n",
            "  inflating: processed_images/test/cataract/image_252.png  \n",
            "  inflating: processed_images/test/cataract/image_291.png  \n",
            "  inflating: processed_images/test/cataract/image_246.png  \n",
            "  inflating: processed_images/test/cataract/image_249.png  \n",
            "  inflating: processed_images/train/cataract/image_43.png  \n",
            "  inflating: processed_images/test/cataract/image_248.png  \n",
            "  inflating: processed_images/test/cataract/image_250.png  \n",
            "  inflating: processed_images/test/cataract/image_262.png  \n",
            "  inflating: processed_images/test/cataract/image_283.png  \n",
            "  inflating: processed_images/test/normal/image_266.png  \n",
            "  inflating: processed_images/test/cataract/image_290.png  \n",
            "  inflating: processed_images/test/cataract/image_273.png  \n",
            "  inflating: processed_images/test/normal/image_253.png  \n",
            "  inflating: processed_images/test/cataract/image_281.png  \n",
            "  inflating: processed_images/test/cataract/image_247.png  \n",
            "  inflating: processed_images/test/cataract/image_260.png  \n",
            "  inflating: processed_images/test/cataract/image_272.png  \n",
            "  inflating: processed_images/train/cataract/image_44.png  \n",
            "  inflating: processed_images/test/cataract/image_297.png  \n",
            "  inflating: processed_images/test/cataract/image_263.png  \n",
            "  inflating: processed_images/train/cataract/image_38.png  \n",
            "  inflating: processed_images/test/cataract/image_296.png  \n",
            "  inflating: processed_images/train/cataract/image_9.png  \n",
            "  inflating: processed_images/test/cataract/image_285.png  \n",
            "  inflating: processed_images/test/cataract/image_266.png  \n",
            "  inflating: processed_images/train/cataract/image_97.png  \n",
            "  inflating: processed_images/train/cataract/image_64.png  \n",
            "  inflating: processed_images/test/cataract/image_259.png  \n",
            "  inflating: processed_images/train/cataract/image_58.png  \n",
            "  inflating: processed_images/train/cataract/image_82.png  \n",
            "  inflating: processed_images/train/cataract/image_75.png  \n",
            "  inflating: processed_images/train/cataract/image_41.png  \n",
            "  inflating: processed_images/train/cataract/image_95.png  \n",
            "  inflating: processed_images/train/cataract/image_98.png  \n",
            "  inflating: processed_images/train/cataract/image_37.png  \n",
            "  inflating: processed_images/train/cataract/image_81.png  \n",
            "  inflating: processed_images/train/cataract/image_91.png  \n",
            "  inflating: processed_images/train/cataract/image_90.png  \n",
            "  inflating: processed_images/train/cataract/image_55.png  \n",
            "  inflating: processed_images/train/cataract/image_5.png  \n",
            "  inflating: processed_images/train/cataract/image_74.png  \n",
            "  inflating: processed_images/train/cataract/image_83.png  \n",
            "  inflating: processed_images/train/cataract/image_47.png  \n",
            "  inflating: processed_images/train/cataract/image_52.png  \n",
            "  inflating: processed_images/train/cataract/image_56.png  \n",
            "  inflating: processed_images/train/cataract/image_51.png  \n",
            "  inflating: processed_images/train/cataract/image_53.png  \n",
            "  inflating: processed_images/train/cataract/image_48.png  \n",
            "  inflating: processed_images/train/cataract/image_40.png  \n",
            "  inflating: processed_images/train/cataract/image_36.png  \n",
            "  inflating: processed_images/train/cataract/image_77.png  \n",
            "  inflating: processed_images/train/cataract/image_88.png  \n",
            "  inflating: processed_images/train/cataract/image_7.png  \n",
            "  inflating: processed_images/train/cataract/image_8.png  \n",
            "  inflating: processed_images/train/cataract/image_93.png  \n",
            "  inflating: processed_images/train/cataract/image_67.png  \n",
            "  inflating: processed_images/train/cataract/image_62.png  \n",
            "  inflating: processed_images/train/cataract/image_35.png  \n",
            "  inflating: processed_images/test/cataract/image_254.png  \n",
            "  inflating: processed_images/train/cataract/image_57.png  \n",
            "  inflating: processed_images/train/cataract/image_4.png  \n",
            "  inflating: processed_images/test/cataract/image_270.png  \n",
            "  inflating: processed_images/train/cataract/image_59.png  \n",
            "  inflating: processed_images/train/cataract/image_78.png  \n",
            "  inflating: processed_images/train/cataract/image_6.png  \n",
            "  inflating: processed_images/train/cataract/image_85.png  \n",
            "  inflating: processed_images/train/cataract/image_86.png  \n",
            "  inflating: processed_images/train/cataract/image_220.png  \n",
            "  inflating: processed_images/train/cataract/image_76.png  \n",
            "  inflating: processed_images/train/cataract/image_50.png  \n",
            "  inflating: processed_images/train/cataract/image_65.png  \n",
            "  inflating: processed_images/train/cataract/image_70.png  \n",
            "  inflating: processed_images/train/cataract/image_71.png  \n",
            "  inflating: processed_images/train/cataract/image_216.png  \n",
            "  inflating: processed_images/train/cataract/image_72.png  \n",
            "  inflating: processed_images/train/cataract/image_84.png  \n",
            "  inflating: processed_images/train/cataract/image_87.png  \n",
            "  inflating: processed_images/train/cataract/image_94.png  \n",
            "  inflating: processed_images/train/cataract/image_54.png  \n",
            "  inflating: processed_images/train/cataract/image_68.png  \n",
            "  inflating: processed_images/train/cataract/image_32.png  \n",
            "  inflating: processed_images/train/cataract/image_89.png  \n",
            "  inflating: processed_images/train/cataract/image_49.png  \n",
            "  inflating: processed_images/train/cataract/image_60.png  \n",
            "  inflating: processed_images/train/cataract/image_66.png  \n",
            "  inflating: processed_images/train/cataract/image_61.png  \n",
            "  inflating: processed_images/train/cataract/image_227.png  \n",
            "  inflating: processed_images/train/cataract/image_225.png  \n",
            "  inflating: processed_images/train/cataract/image_31.png  \n",
            "  inflating: processed_images/train/cataract/image_39.png  \n",
            "  inflating: processed_images/train/cataract/image_217.png  \n",
            "  inflating: processed_images/train/cataract/image_73.png  \n",
            "  inflating: processed_images/train/cataract/image_238.png  \n",
            "  inflating: processed_images/train/cataract/image_45.png  \n",
            "  inflating: processed_images/train/cataract/image_242.png  \n",
            "  inflating: processed_images/train/cataract/image_23.png  \n",
            "  inflating: processed_images/train/cataract/image_96.png  \n",
            "  inflating: processed_images/train/cataract/image_80.png  \n",
            "  inflating: processed_images/train/cataract/image_34.png  \n",
            "  inflating: processed_images/train/cataract/image_63.png  \n",
            "  inflating: processed_images/train/cataract/image_211.png  \n",
            "  inflating: processed_images/train/cataract/image_213.png  \n",
            "  inflating: processed_images/train/cataract/image_92.png  \n",
            "  inflating: processed_images/train/cataract/image_245.png  \n",
            "  inflating: processed_images/train/cataract/image_219.png  \n",
            "  inflating: processed_images/test/cataract/image_278.png  \n",
            "  inflating: processed_images/train/cataract/image_99.png  \n",
            "  inflating: processed_images/train/cataract/image_234.png  \n",
            "  inflating: processed_images/train/cataract/image_42.png  \n",
            "  inflating: processed_images/train/cataract/image_29.png  \n",
            "  inflating: processed_images/train/cataract/image_79.png  \n",
            "  inflating: processed_images/train/cataract/image_231.png  \n",
            "  inflating: processed_images/train/cataract/image_27.png  \n",
            "  inflating: processed_images/train/cataract/image_22.png  \n",
            "  inflating: processed_images/train/cataract/image_244.png  \n",
            "  inflating: processed_images/train/cataract/image_235.png  \n",
            "  inflating: processed_images/train/cataract/image_25.png  \n",
            "  inflating: processed_images/train/cataract/image_26.png  \n",
            "  inflating: processed_images/train/cataract/image_24.png  \n",
            "  inflating: processed_images/train/cataract/image_237.png  \n",
            "  inflating: processed_images/train/cataract/image_240.png  \n",
            "  inflating: processed_images/train/cataract/image_222.png  \n",
            "  inflating: processed_images/train/cataract/image_241.png  \n",
            "  inflating: processed_images/train/cataract/image_3.png  \n",
            "  inflating: processed_images/train/cataract/image_30.png  \n",
            "  inflating: processed_images/train/cataract/image_16.png  \n",
            "  inflating: processed_images/train/cataract/image_172.png  \n",
            "  inflating: processed_images/train/cataract/image_223.png  \n",
            "  inflating: processed_images/train/cataract/image_28.png  \n",
            "  inflating: processed_images/train/cataract/image_200.png  \n",
            "  inflating: processed_images/train/cataract/image_195.png  \n",
            "  inflating: processed_images/train/cataract/image_236.png  \n",
            "  inflating: processed_images/train/cataract/image_178.png  \n",
            "  inflating: processed_images/train/cataract/image_2.png  \n",
            "  inflating: processed_images/train/cataract/image_205.png  \n",
            "  inflating: processed_images/test/normal/image_258.png  \n",
            "  inflating: processed_images/train/cataract/image_218.png  \n",
            "  inflating: processed_images/train/cataract/image_246.png  \n",
            "  inflating: processed_images/train/cataract/image_232.png  \n",
            "  inflating: processed_images/train/cataract/image_233.png  \n",
            "  inflating: processed_images/train/cataract/image_193.png  \n",
            "  inflating: processed_images/train/cataract/image_224.png  \n",
            "  inflating: processed_images/train/cataract/image_175.png  \n",
            "  inflating: processed_images/train/cataract/image_207.png  \n",
            "  inflating: processed_images/train/cataract/image_247.png  \n",
            "  inflating: processed_images/train/cataract/image_212.png  \n",
            "  inflating: processed_images/train/cataract/image_159.png  \n",
            "  inflating: processed_images/train/cataract/image_221.png  \n",
            "  inflating: processed_images/train/cataract/image_228.png  \n",
            "  inflating: processed_images/train/cataract/image_158.png  \n",
            "  inflating: processed_images/train/cataract/image_168.png  \n",
            "  inflating: processed_images/train/cataract/image_215.png  \n",
            "  inflating: processed_images/train/cataract/image_166.png  \n",
            "  inflating: processed_images/train/cataract/image_226.png  \n",
            "  inflating: processed_images/train/cataract/image_162.png  \n",
            "  inflating: processed_images/train/cataract/image_203.png  \n",
            "  inflating: processed_images/train/cataract/image_33.png  \n",
            "  inflating: processed_images/train/cataract/image_243.png  \n",
            "  inflating: processed_images/train/cataract/image_171.png  \n",
            "  inflating: processed_images/train/cataract/image_20.png  \n",
            "  inflating: processed_images/train/cataract/image_21.png  \n",
            "  inflating: processed_images/train/cataract/image_201.png  \n",
            "  inflating: processed_images/train/cataract/image_204.png  \n",
            "  inflating: processed_images/train/cataract/image_183.png  \n",
            "  inflating: processed_images/train/cataract/image_198.png  \n",
            "  inflating: processed_images/train/cataract/image_229.png  \n",
            "  inflating: processed_images/train/cataract/image_196.png  \n",
            "  inflating: processed_images/train/cataract/image_176.png  \n",
            "  inflating: processed_images/train/cataract/image_156.png  \n",
            "  inflating: processed_images/train/cataract/image_209.png  \n",
            "  inflating: processed_images/train/cataract/image_239.png  \n",
            "  inflating: processed_images/train/cataract/image_164.png  \n",
            "  inflating: processed_images/train/cataract/image_206.png  \n",
            "  inflating: processed_images/train/cataract/image_167.png  \n",
            "  inflating: processed_images/train/cataract/image_208.png  \n",
            "  inflating: processed_images/train/cataract/image_199.png  \n",
            "  inflating: processed_images/train/cataract/image_186.png  \n",
            "  inflating: processed_images/train/cataract/image_17.png  \n",
            "  inflating: processed_images/train/cataract/image_157.png  \n",
            "  inflating: processed_images/train/cataract/image_182.png  \n",
            "  inflating: processed_images/train/cataract/image_169.png  \n",
            "  inflating: processed_images/train/cataract/image_180.png  \n",
            "  inflating: processed_images/train/cataract/image_160.png  \n",
            "  inflating: processed_images/train/cataract/image_230.png  \n",
            "  inflating: processed_images/train/cataract/image_139.png  \n",
            "  inflating: processed_images/train/cataract/image_170.png  \n",
            "  inflating: processed_images/train/cataract/image_163.png  \n",
            "  inflating: processed_images/train/cataract/image_190.png  \n",
            "  inflating: processed_images/train/cataract/image_18.png  \n",
            "  inflating: processed_images/train/cataract/image_174.png  \n",
            "  inflating: processed_images/train/cataract/image_141.png  \n",
            "  inflating: processed_images/train/cataract/image_173.png  \n",
            "  inflating: processed_images/train/cataract/image_188.png  \n",
            "  inflating: processed_images/train/cataract/image_184.png  \n",
            "  inflating: processed_images/train/cataract/image_191.png  \n",
            "  inflating: processed_images/train/cataract/image_103.png  \n",
            "  inflating: processed_images/train/cataract/image_165.png  \n",
            "  inflating: processed_images/train/cataract/image_109.png  \n",
            "  inflating: processed_images/train/cataract/image_197.png  \n",
            "  inflating: processed_images/train/cataract/image_185.png  \n",
            "  inflating: processed_images/train/cataract/image_11.png  \n",
            "  inflating: processed_images/train/cataract/image_112.png  \n",
            "  inflating: processed_images/train/cataract/image_101.png  \n",
            "  inflating: processed_images/train/cataract/image_154.png  \n",
            "  inflating: processed_images/train/cataract/image_137.png  \n",
            "  inflating: processed_images/train/cataract/image_214.png  \n",
            "  inflating: processed_images/train/cataract/image_13.png  \n",
            "  inflating: processed_images/train/cataract/image_181.png  \n",
            "  inflating: processed_images/train/cataract/image_69.png  \n",
            "  inflating: processed_images/train/cataract/image_147.png  \n",
            "  inflating: processed_images/train/cataract/image_102.png  \n",
            "  inflating: processed_images/train/cataract/image_161.png  \n",
            "  inflating: processed_images/train/cataract/image_148.png  \n",
            "  inflating: processed_images/train/cataract/image_124.png  \n",
            "  inflating: processed_images/train/cataract/image_117.png  \n",
            "  inflating: processed_images/train/cataract/image_128.png  \n",
            "  inflating: processed_images/train/cataract/image_177.png  \n",
            "  inflating: processed_images/train/cataract/image_179.png  \n",
            "  inflating: processed_images/train/cataract/image_145.png  \n",
            "  inflating: processed_images/train/cataract/image_132.png  \n",
            "  inflating: processed_images/train/cataract/image_146.png  \n",
            "  inflating: processed_images/train/cataract/image_151.png  \n",
            "  inflating: processed_images/train/cataract/image_15.png  \n",
            "  inflating: processed_images/train/cataract/image_143.png  \n",
            "  inflating: processed_images/train/cataract/image_108.png  \n",
            "  inflating: processed_images/train/cataract/image_116.png  \n",
            "  inflating: processed_images/train/cataract/image_136.png  \n",
            "  inflating: processed_images/train/cataract/image_153.png  \n",
            "  inflating: processed_images/train/cataract/image_121.png  \n",
            "  inflating: processed_images/train/cataract/image_130.png  \n",
            "  inflating: processed_images/train/cataract/image_115.png  \n",
            "  inflating: processed_images/train/cataract/image_194.png  \n",
            "  inflating: processed_images/train/cataract/image_114.png  \n",
            "  inflating: processed_images/train/cataract/image_140.png  \n",
            "  inflating: processed_images/train/cataract/image_122.png  \n",
            "  inflating: processed_images/train/cataract/image_134.png  \n",
            "  inflating: processed_images/train/cataract/image_138.png  \n",
            "  inflating: processed_images/train/cataract/image_106.png  \n",
            "  inflating: processed_images/train/cataract/image_113.png  \n",
            "  inflating: processed_images/train/cataract/image_192.png  \n",
            "  inflating: processed_images/train/normal/image_76.png  \n",
            "  inflating: processed_images/train/cataract/image_118.png  \n",
            "  inflating: processed_images/train/cataract/image_131.png  \n",
            "  inflating: processed_images/train/cataract/image_12.png  \n",
            "  inflating: processed_images/train/cataract/image_129.png  \n",
            "  inflating: processed_images/train/cataract/image_100.png  \n",
            "  inflating: processed_images/train/cataract/image_125.png  \n",
            "  inflating: processed_images/train/cataract/image_150.png  \n",
            "  inflating: processed_images/train/cataract/image_127.png  \n",
            "  inflating: processed_images/train/cataract/image_187.png  \n",
            "  inflating: processed_images/train/cataract/image_189.png  \n",
            "  inflating: processed_images/train/cataract/image_14.png  \n",
            "  inflating: processed_images/train/cataract/image_10.png  \n",
            "  inflating: processed_images/train/cataract/image_104.png  \n",
            "  inflating: processed_images/train/cataract/image_135.png  \n",
            "  inflating: processed_images/train/cataract/image_1.png  \n",
            "  inflating: processed_images/train/cataract/image_119.png  \n",
            "  inflating: processed_images/train/cataract/image_126.png  \n",
            "  inflating: processed_images/train/cataract/image_202.png  \n",
            "  inflating: processed_images/train/cataract/image_107.png  \n",
            "  inflating: processed_images/train/normal/image_81.png  \n",
            "  inflating: processed_images/train/cataract/image_111.png  \n",
            "  inflating: processed_images/train/cataract/image_144.png  \n",
            "  inflating: processed_images/train/normal/image_99.png  \n",
            "  inflating: processed_images/train/normal/image_95.png  \n",
            "  inflating: processed_images/train/cataract/image_149.png  \n",
            "  inflating: processed_images/train/cataract/image_133.png  \n",
            "  inflating: processed_images/train/normal/image_89.png  \n",
            "  inflating: processed_images/train/cataract/image_120.png  \n",
            "  inflating: processed_images/train/cataract/image_155.png  \n",
            "  inflating: processed_images/train/normal/image_34.png  \n",
            "  inflating: processed_images/train/normal/image_90.png  \n",
            "  inflating: processed_images/train/cataract/image_123.png  \n",
            "  inflating: processed_images/train/normal/image_46.png  \n",
            "  inflating: processed_images/train/normal/image_94.png  \n",
            "  inflating: processed_images/train/cataract/image_152.png  \n",
            "  inflating: processed_images/train/normal/image_91.png  \n",
            "  inflating: processed_images/train/normal/image_85.png  \n",
            "  inflating: processed_images/train/normal/image_75.png  \n",
            "  inflating: processed_images/train/normal/image_67.png  \n",
            "  inflating: processed_images/train/normal/image_5.png  \n",
            "  inflating: processed_images/train/normal/image_38.png  \n",
            "  inflating: processed_images/train/normal/image_96.png  \n",
            "  inflating: processed_images/train/normal/image_82.png  \n",
            "  inflating: processed_images/train/normal/image_47.png  \n",
            "  inflating: processed_images/train/normal/image_49.png  \n",
            "  inflating: processed_images/train/normal/image_44.png  \n",
            "  inflating: processed_images/train/normal/image_58.png  \n",
            "  inflating: processed_images/train/cataract/image_110.png  \n",
            "  inflating: processed_images/train/normal/image_7.png  \n",
            "  inflating: processed_images/train/normal/image_74.png  \n",
            "  inflating: processed_images/train/normal/image_88.png  \n",
            "  inflating: processed_images/train/cataract/image_105.png  \n",
            "  inflating: processed_images/train/normal/image_33.png  \n",
            "  inflating: processed_images/train/cataract/image_142.png  \n",
            "  inflating: processed_images/train/normal/image_98.png  \n",
            "  inflating: processed_images/train/normal/image_37.png  \n",
            "  inflating: processed_images/train/cataract/image_210.png  \n",
            "  inflating: processed_images/train/normal/image_78.png  \n",
            "  inflating: processed_images/train/normal/image_51.png  \n",
            "  inflating: processed_images/train/normal/image_69.png  \n",
            "  inflating: processed_images/train/normal/image_87.png  \n",
            "  inflating: processed_images/train/normal/image_54.png  \n",
            "  inflating: processed_images/train/normal/image_41.png  \n",
            "  inflating: processed_images/train/normal/image_93.png  \n",
            "  inflating: processed_images/train/normal/image_64.png  \n",
            "  inflating: processed_images/train/normal/image_71.png  \n",
            "  inflating: processed_images/train/normal/image_56.png  \n",
            "  inflating: processed_images/train/normal/image_4.png  \n",
            "  inflating: processed_images/train/normal/image_39.png  \n",
            "  inflating: processed_images/train/normal/image_77.png  \n",
            "  inflating: processed_images/train/normal/image_52.png  \n",
            "  inflating: processed_images/train/normal/image_70.png  \n",
            "  inflating: processed_images/train/normal/image_55.png  \n",
            "  inflating: processed_images/train/normal/image_36.png  \n",
            "  inflating: processed_images/train/normal/image_72.png  \n",
            "  inflating: processed_images/train/normal/image_84.png  \n",
            "  inflating: processed_images/train/normal/image_68.png  \n",
            "  inflating: processed_images/train/normal/image_9.png  \n",
            "  inflating: processed_images/train/normal/image_79.png  \n",
            "  inflating: processed_images/train/normal/image_97.png  \n",
            "  inflating: processed_images/train/normal/image_63.png  \n",
            "  inflating: processed_images/train/normal/image_73.png  \n",
            "  inflating: processed_images/train/normal/image_8.png  \n",
            "  inflating: processed_images/train/normal/image_61.png  \n",
            "  inflating: processed_images/train/normal/image_28.png  \n",
            "  inflating: processed_images/train/normal/image_45.png  \n",
            "  inflating: processed_images/train/normal/image_48.png  \n",
            "  inflating: processed_images/train/normal/image_42.png  \n",
            "  inflating: processed_images/train/normal/image_83.png  \n",
            "  inflating: processed_images/train/normal/image_57.png  \n",
            "  inflating: processed_images/train/normal/image_86.png  \n",
            "  inflating: processed_images/train/normal/image_65.png  \n",
            "  inflating: processed_images/train/normal/image_23.png  \n",
            "  inflating: processed_images/train/normal/image_216.png  \n",
            "  inflating: processed_images/train/normal/image_59.png  \n",
            "  inflating: processed_images/train/normal/image_50.png  \n",
            "  inflating: processed_images/train/normal/image_43.png  \n",
            "  inflating: processed_images/train/normal/image_53.png  \n",
            "  inflating: processed_images/train/normal/image_228.png  \n",
            "  inflating: processed_images/train/normal/image_236.png  \n",
            "  inflating: processed_images/train/normal/image_40.png  \n",
            "  inflating: processed_images/train/normal/image_218.png  \n",
            "  inflating: processed_images/train/normal/image_60.png  \n",
            "  inflating: processed_images/train/normal/image_66.png  \n",
            "  inflating: processed_images/train/normal/image_35.png  \n",
            "  inflating: processed_images/train/normal/image_30.png  \n",
            "  inflating: processed_images/train/normal/image_80.png  \n",
            "  inflating: processed_images/train/normal/image_224.png  \n",
            "  inflating: processed_images/train/normal/image_220.png  \n",
            "  inflating: processed_images/train/normal/image_31.png  \n",
            "  inflating: processed_images/train/normal/image_219.png  \n",
            "  inflating: processed_images/train/normal/image_6.png  \n",
            "  inflating: processed_images/train/normal/image_245.png  \n",
            "  inflating: processed_images/train/normal/image_211.png  \n",
            "  inflating: processed_images/train/normal/image_227.png  \n",
            "  inflating: processed_images/train/normal/image_92.png  \n",
            "  inflating: processed_images/train/normal/image_221.png  \n",
            "  inflating: processed_images/train/normal/image_235.png  \n",
            "  inflating: processed_images/train/normal/image_26.png  \n",
            "  inflating: processed_images/train/normal/image_239.png  \n",
            "  inflating: processed_images/train/normal/image_3.png  \n",
            "  inflating: processed_images/train/normal/image_213.png  \n",
            "  inflating: processed_images/train/normal/image_210.png  \n",
            "  inflating: processed_images/train/normal/image_244.png  \n",
            "  inflating: processed_images/train/normal/image_22.png  \n",
            "  inflating: processed_images/train/normal/image_62.png  \n",
            "  inflating: processed_images/train/normal/image_27.png  \n",
            "  inflating: processed_images/train/normal/image_215.png  \n",
            "  inflating: processed_images/train/normal/image_2.png  \n",
            "  inflating: processed_images/train/normal/image_222.png  \n",
            "  inflating: processed_images/train/normal/image_237.png  \n",
            "  inflating: processed_images/train/normal/image_231.png  \n",
            "  inflating: processed_images/train/normal/image_32.png  \n",
            "  inflating: processed_images/train/normal/image_29.png  \n",
            "  inflating: processed_images/train/normal/image_241.png  \n",
            "  inflating: processed_images/train/normal/image_225.png  \n",
            "  inflating: processed_images/train/normal/image_25.png  \n",
            "  inflating: processed_images/train/normal/image_174.png  \n",
            "  inflating: processed_images/train/normal/image_173.png  \n",
            "  inflating: processed_images/train/normal/image_24.png  \n",
            "  inflating: processed_images/train/normal/image_243.png  \n",
            "  inflating: processed_images/train/normal/image_223.png  \n",
            "  inflating: processed_images/train/normal/image_230.png  \n",
            "  inflating: processed_images/train/normal/image_240.png  \n",
            "  inflating: processed_images/train/normal/image_226.png  \n",
            "  inflating: processed_images/train/normal/image_200.png  \n",
            "  inflating: processed_images/train/normal/image_217.png  \n",
            "  inflating: processed_images/train/normal/image_170.png  \n",
            "  inflating: processed_images/train/normal/image_20.png  \n",
            "  inflating: processed_images/train/normal/image_214.png  \n",
            "  inflating: processed_images/train/normal/image_21.png  \n",
            "  inflating: processed_images/train/normal/image_185.png  \n",
            "  inflating: processed_images/train/normal/image_242.png  \n",
            "  inflating: processed_images/train/normal/image_233.png  \n",
            "  inflating: processed_images/train/normal/image_19.png  \n",
            "  inflating: processed_images/train/normal/image_187.png  \n",
            "  inflating: processed_images/train/normal/image_238.png  \n",
            "  inflating: processed_images/train/normal/image_196.png  \n",
            "  inflating: processed_images/train/normal/image_229.png  \n",
            "  inflating: processed_images/train/normal/image_176.png  \n",
            "  inflating: processed_images/train/normal/image_193.png  \n",
            "  inflating: processed_images/train/normal/image_199.png  \n",
            "  inflating: processed_images/train/normal/image_165.png  \n",
            "  inflating: processed_images/train/normal/image_183.png  \n",
            "  inflating: processed_images/train/normal/image_194.png  \n",
            "  inflating: processed_images/train/normal/image_181.png  \n",
            "  inflating: processed_images/train/normal/image_166.png  \n",
            "  inflating: processed_images/train/normal/image_171.png  \n",
            "  inflating: processed_images/train/normal/image_190.png  \n",
            "  inflating: processed_images/train/normal/image_177.png  \n",
            "  inflating: processed_images/train/normal/image_180.png  \n",
            "  inflating: processed_images/train/normal/image_209.png  \n",
            "  inflating: processed_images/train/normal/image_195.png  \n",
            "  inflating: processed_images/train/normal/image_172.png  \n",
            "  inflating: processed_images/train/normal/image_192.png  \n",
            "  inflating: processed_images/train/normal/image_204.png  \n",
            "  inflating: processed_images/train/normal/image_136.png  \n",
            "  inflating: processed_images/train/normal/image_178.png  \n",
            "  inflating: processed_images/train/normal/image_179.png  \n",
            "  inflating: processed_images/train/normal/image_205.png  \n",
            "  inflating: processed_images/train/normal/image_191.png  \n",
            "  inflating: processed_images/train/normal/image_152.png  \n",
            "  inflating: processed_images/train/normal/image_184.png  \n",
            "  inflating: processed_images/train/normal/image_17.png  \n",
            "  inflating: processed_images/train/normal/image_198.png  \n",
            "  inflating: processed_images/train/normal/image_107.png  \n",
            "  inflating: processed_images/train/normal/image_202.png  \n",
            "  inflating: processed_images/train/normal/image_133.png  \n",
            "  inflating: processed_images/train/normal/image_189.png  \n",
            "  inflating: processed_images/train/normal/image_18.png  \n",
            "  inflating: processed_images/train/normal/image_188.png  \n",
            "  inflating: processed_images/train/normal/image_156.png  \n",
            "  inflating: processed_images/train/normal/image_137.png  \n",
            "  inflating: processed_images/train/normal/image_11.png  \n",
            "  inflating: processed_images/train/normal/image_155.png  \n",
            "  inflating: processed_images/train/normal/image_169.png  \n",
            "  inflating: processed_images/train/normal/image_203.png  \n",
            "  inflating: processed_images/train/normal/image_207.png  \n",
            "  inflating: processed_images/train/normal/image_232.png  \n",
            "  inflating: processed_images/train/normal/image_201.png  \n",
            "  inflating: processed_images/train/normal/image_197.png  \n",
            "  inflating: processed_images/train/normal/image_206.png  \n",
            "  inflating: processed_images/train/normal/image_234.png  \n",
            "  inflating: processed_images/train/normal/image_16.png  \n",
            "  inflating: processed_images/train/normal/image_163.png  \n",
            "  inflating: processed_images/train/normal/image_186.png  \n",
            "  inflating: processed_images/train/normal/image_126.png  \n",
            "  inflating: processed_images/train/normal/image_129.png  \n",
            "  inflating: processed_images/train/normal/image_131.png  \n",
            "  inflating: processed_images/train/normal/image_208.png  \n",
            "  inflating: processed_images/train/normal/image_141.png  \n",
            "  inflating: processed_images/train/normal/image_157.png  \n",
            "  inflating: processed_images/train/normal/image_182.png  \n",
            "  inflating: processed_images/train/normal/image_121.png  \n",
            "  inflating: processed_images/train/normal/image_12.png  \n",
            "  inflating: processed_images/train/normal/image_123.png  \n",
            "  inflating: processed_images/train/normal/image_120.png  \n",
            "  inflating: processed_images/train/normal/image_15.png  \n",
            "  inflating: processed_images/train/normal/image_111.png  \n",
            "  inflating: processed_images/train/normal/image_109.png  \n",
            "  inflating: processed_images/train/normal/image_116.png  \n",
            "  inflating: processed_images/train/normal/image_135.png  \n",
            "  inflating: processed_images/train/normal/image_212.png  \n",
            "  inflating: processed_images/train/normal/image_127.png  \n",
            "  inflating: processed_images/train/normal/image_102.png  \n",
            "  inflating: processed_images/train/normal/image_144.png  \n",
            "  inflating: processed_images/train/normal/image_159.png  \n",
            "  inflating: processed_images/train/normal/image_142.png  \n",
            "  inflating: processed_images/train/normal/image_122.png  \n",
            "  inflating: processed_images/train/normal/image_147.png  \n",
            "  inflating: processed_images/train/normal/image_140.png  \n",
            "  inflating: processed_images/train/normal/image_138.png  \n",
            "  inflating: processed_images/train/normal/image_151.png  \n",
            "  inflating: processed_images/train/normal/image_143.png  \n",
            "  inflating: processed_images/train/normal/image_130.png  \n",
            "  inflating: processed_images/train/normal/image_164.png  \n",
            "  inflating: processed_images/train/normal/image_118.png  \n",
            "  inflating: processed_images/train/normal/image_13.png  \n",
            "  inflating: processed_images/train/normal/image_112.png  \n",
            "  inflating: processed_images/train/normal/image_149.png  \n",
            "  inflating: processed_images/train/normal/image_1.png  \n",
            "  inflating: processed_images/train/normal/image_161.png  \n",
            "  inflating: processed_images/train/normal/image_128.png  \n",
            "  inflating: processed_images/train/normal/image_150.png  \n",
            "  inflating: processed_images/train/normal/image_160.png  \n",
            "  inflating: processed_images/train/normal/image_146.png  \n",
            "  inflating: processed_images/train/normal/image_125.png  \n",
            "  inflating: processed_images/train/normal/image_105.png  \n",
            "  inflating: processed_images/train/normal/image_167.png  \n",
            "  inflating: processed_images/train/normal/image_0.png  \n",
            "  inflating: processed_images/train/normal/image_158.png  \n",
            "  inflating: processed_images/train/normal/image_115.png  \n",
            "  inflating: processed_images/train/normal/image_117.png  \n",
            "  inflating: processed_images/train/normal/image_106.png  \n",
            "  inflating: processed_images/train/normal/image_113.png  \n",
            "  inflating: processed_images/train/normal/image_104.png  \n",
            "  inflating: processed_images/train/normal/image_134.png  \n",
            "  inflating: processed_images/train/normal/image_153.png  \n",
            "  inflating: processed_images/train/normal/image_162.png  \n",
            "  inflating: processed_images/train/normal/image_101.png  \n",
            "  inflating: processed_images/train/normal/image_108.png  \n",
            "  inflating: processed_images/train/normal/image_154.png  \n",
            "  inflating: processed_images/train/normal/image_100.png  \n",
            "  inflating: processed_images/train/normal/image_124.png  \n",
            "  inflating: processed_images/train/normal/image_10.png  \n",
            "  inflating: processed_images/train/normal/image_14.png  \n",
            "  inflating: processed_images/train/normal/image_119.png  \n",
            "  inflating: processed_images/train/normal/image_103.png  \n",
            "  inflating: processed_images/train/normal/image_114.png  \n",
            "  inflating: processed_images/train/normal/image_148.png  \n",
            "  inflating: processed_images/train/normal/image_145.png  \n",
            "  inflating: processed_images/train/normal/image_139.png  \n",
            "  inflating: processed_images/train/normal/image_110.png  \n",
            "  inflating: processed_images/train/normal/image_132.png  \n",
            "  inflating: processed_images/train/normal/image_168.png  \n",
            "  inflating: processed_images/train/normal/image_175.png  \n"
          ]
        }
      ]
    },
    {
      "cell_type": "code",
      "execution_count": 19,
      "metadata": {
        "id": "dn8tqy91RHqF"
      },
      "outputs": [],
      "source": [
        "# from google.colab import drive\n",
        "# #Please Download the dataset to use, the link is given below\n",
        "# #https://drive.google.com/drive/folders/1F_Kq-OgENM3H7Ti9ID40piPPzQBvfdOW?usp=sharing\n",
        "# drive.mount('/content/drive/')"
      ]
    },
    {
      "cell_type": "code",
      "source": [
        "!pip install -q keras"
      ],
      "metadata": {
        "id": "cRg_igrFsVO3"
      },
      "execution_count": 27,
      "outputs": []
    },
    {
      "cell_type": "code",
      "source": [
        "import numpy as np\n",
        "import pandas as pd\n",
        "import tensorflow as tf\n",
        "import os\n",
        "import matplotlib.pyplot as plt\n",
        "\n",
        "from tensorflow.keras.models import Sequential\n",
        "from tensorflow.keras.layers import Conv2D, MaxPooling2D, Flatten, Dense, Dropout, GlobalAveragePooling2D\n",
        "from tensorflow.keras.optimizers import Adam\n",
        "from tensorflow.keras.preprocessing.image import ImageDataGenerator\n",
        "from tensorflow.keras.applications import ResNet50, InceptionV3, MobileNetV2, VGG19"
      ],
      "metadata": {
        "id": "Vd-kW0fuscj3"
      },
      "execution_count": 28,
      "outputs": []
    },
    {
      "cell_type": "markdown",
      "source": [
        "### Step - 02: Including Datasets\n",
        "\n",
        "I used two different datasets; Test and Train for their respective uses.\n",
        "\n",
        "To run the code, please include the datasets from here:\\\n",
        "https://drive.google.com/drive/folders/1F_Kq-OgENM3H7Ti9ID40piPPzQBvfdOW?usp=sharing"
      ],
      "metadata": {
        "id": "-wt1f9t-LXZI"
      }
    },
    {
      "cell_type": "code",
      "source": [
        "from tensorflow.keras.preprocessing.image import ImageDataGenerator\n",
        "\n",
        "train_datagen = ImageDataGenerator(rescale=1./255)\n",
        "\n",
        "test_datagen = ImageDataGenerator(rescale=1./255)\n",
        "\n",
        "batch_size = 32\n",
        "\n",
        "train_generator = train_datagen.flow_from_directory(\n",
        "    './processed_images/train/',\n",
        "    target_size=(224, 224),\n",
        "    batch_size=batch_size,\n",
        "    class_mode='binary'\n",
        ")\n",
        "\n",
        "test_generator = test_datagen.flow_from_directory(\n",
        "    './processed_images/test/',\n",
        "    target_size=(224, 224),\n",
        "    batch_size=batch_size,\n",
        "    class_mode='binary'\n",
        ")"
      ],
      "metadata": {
        "colab": {
          "base_uri": "https://localhost:8080/"
        },
        "id": "tGq5EXyzvrno",
        "outputId": "74856f46-1a91-43c7-c8e1-a1a8c9137074"
      },
      "execution_count": 8,
      "outputs": [
        {
          "output_type": "stream",
          "name": "stdout",
          "text": [
            "Found 491 images belonging to 2 classes.\n",
            "Found 121 images belonging to 2 classes.\n"
          ]
        }
      ]
    },
    {
      "cell_type": "code",
      "source": [
        "input_shape = (224, 224, 3)\n",
        "\n",
        "model = Sequential()\n",
        "\n",
        "\n",
        "model.add(Conv2D(32, (3, 3), activation='relu', input_shape=input_shape))\n",
        "model.add(MaxPooling2D((2, 2)))\n",
        "\n",
        "model.add(Conv2D(64, (3, 3), activation='relu'))\n",
        "model.add(MaxPooling2D((2, 2)))\n",
        "\n",
        "model.add(Conv2D(128, (3, 3), activation='relu'))\n",
        "model.add(MaxPooling2D((2, 2)))\n",
        "\n",
        "\n",
        "model.add(Flatten())\n",
        "\n",
        "model.add(Dense(128, activation='relu'))\n",
        "model.add(Dropout(0.5))\n",
        "model.add(Dense(1, activation='sigmoid'))\n",
        "\n",
        "\n",
        "model.compile(optimizer='adam', loss='binary_crossentropy', metrics=['accuracy'])\n",
        "\n",
        "model.summary()"
      ],
      "metadata": {
        "colab": {
          "base_uri": "https://localhost:8080/",
          "height": 504
        },
        "id": "c9WhlrUSwa_2",
        "outputId": "3133bdca-cf1a-4a4b-f418-ee1c2efb8048"
      },
      "execution_count": 11,
      "outputs": [
        {
          "output_type": "stream",
          "name": "stderr",
          "text": [
            "/usr/local/lib/python3.11/dist-packages/keras/src/layers/convolutional/base_conv.py:107: UserWarning: Do not pass an `input_shape`/`input_dim` argument to a layer. When using Sequential models, prefer using an `Input(shape)` object as the first layer in the model instead.\n",
            "  super().__init__(activity_regularizer=activity_regularizer, **kwargs)\n"
          ]
        },
        {
          "output_type": "display_data",
          "data": {
            "text/plain": [
              "\u001b[1mModel: \"sequential\"\u001b[0m\n"
            ],
            "text/html": [
              "<pre style=\"white-space:pre;overflow-x:auto;line-height:normal;font-family:Menlo,'DejaVu Sans Mono',consolas,'Courier New',monospace\"><span style=\"font-weight: bold\">Model: \"sequential\"</span>\n",
              "</pre>\n"
            ]
          },
          "metadata": {}
        },
        {
          "output_type": "display_data",
          "data": {
            "text/plain": [
              "┏━━━━━━━━━━━━━━━━━━━━━━━━━━━━━━━━━┳━━━━━━━━━━━━━━━━━━━━━━━━┳━━━━━━━━━━━━━━━┓\n",
              "┃\u001b[1m \u001b[0m\u001b[1mLayer (type)                   \u001b[0m\u001b[1m \u001b[0m┃\u001b[1m \u001b[0m\u001b[1mOutput Shape          \u001b[0m\u001b[1m \u001b[0m┃\u001b[1m \u001b[0m\u001b[1m      Param #\u001b[0m\u001b[1m \u001b[0m┃\n",
              "┡━━━━━━━━━━━━━━━━━━━━━━━━━━━━━━━━━╇━━━━━━━━━━━━━━━━━━━━━━━━╇━━━━━━━━━━━━━━━┩\n",
              "│ conv2d (\u001b[38;5;33mConv2D\u001b[0m)                 │ (\u001b[38;5;45mNone\u001b[0m, \u001b[38;5;34m222\u001b[0m, \u001b[38;5;34m222\u001b[0m, \u001b[38;5;34m32\u001b[0m)   │           \u001b[38;5;34m896\u001b[0m │\n",
              "├─────────────────────────────────┼────────────────────────┼───────────────┤\n",
              "│ max_pooling2d (\u001b[38;5;33mMaxPooling2D\u001b[0m)    │ (\u001b[38;5;45mNone\u001b[0m, \u001b[38;5;34m111\u001b[0m, \u001b[38;5;34m111\u001b[0m, \u001b[38;5;34m32\u001b[0m)   │             \u001b[38;5;34m0\u001b[0m │\n",
              "├─────────────────────────────────┼────────────────────────┼───────────────┤\n",
              "│ conv2d_1 (\u001b[38;5;33mConv2D\u001b[0m)               │ (\u001b[38;5;45mNone\u001b[0m, \u001b[38;5;34m109\u001b[0m, \u001b[38;5;34m109\u001b[0m, \u001b[38;5;34m64\u001b[0m)   │        \u001b[38;5;34m18,496\u001b[0m │\n",
              "├─────────────────────────────────┼────────────────────────┼───────────────┤\n",
              "│ max_pooling2d_1 (\u001b[38;5;33mMaxPooling2D\u001b[0m)  │ (\u001b[38;5;45mNone\u001b[0m, \u001b[38;5;34m54\u001b[0m, \u001b[38;5;34m54\u001b[0m, \u001b[38;5;34m64\u001b[0m)     │             \u001b[38;5;34m0\u001b[0m │\n",
              "├─────────────────────────────────┼────────────────────────┼───────────────┤\n",
              "│ conv2d_2 (\u001b[38;5;33mConv2D\u001b[0m)               │ (\u001b[38;5;45mNone\u001b[0m, \u001b[38;5;34m52\u001b[0m, \u001b[38;5;34m52\u001b[0m, \u001b[38;5;34m128\u001b[0m)    │        \u001b[38;5;34m73,856\u001b[0m │\n",
              "├─────────────────────────────────┼────────────────────────┼───────────────┤\n",
              "│ max_pooling2d_2 (\u001b[38;5;33mMaxPooling2D\u001b[0m)  │ (\u001b[38;5;45mNone\u001b[0m, \u001b[38;5;34m26\u001b[0m, \u001b[38;5;34m26\u001b[0m, \u001b[38;5;34m128\u001b[0m)    │             \u001b[38;5;34m0\u001b[0m │\n",
              "├─────────────────────────────────┼────────────────────────┼───────────────┤\n",
              "│ flatten (\u001b[38;5;33mFlatten\u001b[0m)               │ (\u001b[38;5;45mNone\u001b[0m, \u001b[38;5;34m86528\u001b[0m)          │             \u001b[38;5;34m0\u001b[0m │\n",
              "├─────────────────────────────────┼────────────────────────┼───────────────┤\n",
              "│ dense (\u001b[38;5;33mDense\u001b[0m)                   │ (\u001b[38;5;45mNone\u001b[0m, \u001b[38;5;34m128\u001b[0m)            │    \u001b[38;5;34m11,075,712\u001b[0m │\n",
              "├─────────────────────────────────┼────────────────────────┼───────────────┤\n",
              "│ dropout (\u001b[38;5;33mDropout\u001b[0m)               │ (\u001b[38;5;45mNone\u001b[0m, \u001b[38;5;34m128\u001b[0m)            │             \u001b[38;5;34m0\u001b[0m │\n",
              "├─────────────────────────────────┼────────────────────────┼───────────────┤\n",
              "│ dense_1 (\u001b[38;5;33mDense\u001b[0m)                 │ (\u001b[38;5;45mNone\u001b[0m, \u001b[38;5;34m1\u001b[0m)              │           \u001b[38;5;34m129\u001b[0m │\n",
              "└─────────────────────────────────┴────────────────────────┴───────────────┘\n"
            ],
            "text/html": [
              "<pre style=\"white-space:pre;overflow-x:auto;line-height:normal;font-family:Menlo,'DejaVu Sans Mono',consolas,'Courier New',monospace\">┏━━━━━━━━━━━━━━━━━━━━━━━━━━━━━━━━━┳━━━━━━━━━━━━━━━━━━━━━━━━┳━━━━━━━━━━━━━━━┓\n",
              "┃<span style=\"font-weight: bold\"> Layer (type)                    </span>┃<span style=\"font-weight: bold\"> Output Shape           </span>┃<span style=\"font-weight: bold\">       Param # </span>┃\n",
              "┡━━━━━━━━━━━━━━━━━━━━━━━━━━━━━━━━━╇━━━━━━━━━━━━━━━━━━━━━━━━╇━━━━━━━━━━━━━━━┩\n",
              "│ conv2d (<span style=\"color: #0087ff; text-decoration-color: #0087ff\">Conv2D</span>)                 │ (<span style=\"color: #00d7ff; text-decoration-color: #00d7ff\">None</span>, <span style=\"color: #00af00; text-decoration-color: #00af00\">222</span>, <span style=\"color: #00af00; text-decoration-color: #00af00\">222</span>, <span style=\"color: #00af00; text-decoration-color: #00af00\">32</span>)   │           <span style=\"color: #00af00; text-decoration-color: #00af00\">896</span> │\n",
              "├─────────────────────────────────┼────────────────────────┼───────────────┤\n",
              "│ max_pooling2d (<span style=\"color: #0087ff; text-decoration-color: #0087ff\">MaxPooling2D</span>)    │ (<span style=\"color: #00d7ff; text-decoration-color: #00d7ff\">None</span>, <span style=\"color: #00af00; text-decoration-color: #00af00\">111</span>, <span style=\"color: #00af00; text-decoration-color: #00af00\">111</span>, <span style=\"color: #00af00; text-decoration-color: #00af00\">32</span>)   │             <span style=\"color: #00af00; text-decoration-color: #00af00\">0</span> │\n",
              "├─────────────────────────────────┼────────────────────────┼───────────────┤\n",
              "│ conv2d_1 (<span style=\"color: #0087ff; text-decoration-color: #0087ff\">Conv2D</span>)               │ (<span style=\"color: #00d7ff; text-decoration-color: #00d7ff\">None</span>, <span style=\"color: #00af00; text-decoration-color: #00af00\">109</span>, <span style=\"color: #00af00; text-decoration-color: #00af00\">109</span>, <span style=\"color: #00af00; text-decoration-color: #00af00\">64</span>)   │        <span style=\"color: #00af00; text-decoration-color: #00af00\">18,496</span> │\n",
              "├─────────────────────────────────┼────────────────────────┼───────────────┤\n",
              "│ max_pooling2d_1 (<span style=\"color: #0087ff; text-decoration-color: #0087ff\">MaxPooling2D</span>)  │ (<span style=\"color: #00d7ff; text-decoration-color: #00d7ff\">None</span>, <span style=\"color: #00af00; text-decoration-color: #00af00\">54</span>, <span style=\"color: #00af00; text-decoration-color: #00af00\">54</span>, <span style=\"color: #00af00; text-decoration-color: #00af00\">64</span>)     │             <span style=\"color: #00af00; text-decoration-color: #00af00\">0</span> │\n",
              "├─────────────────────────────────┼────────────────────────┼───────────────┤\n",
              "│ conv2d_2 (<span style=\"color: #0087ff; text-decoration-color: #0087ff\">Conv2D</span>)               │ (<span style=\"color: #00d7ff; text-decoration-color: #00d7ff\">None</span>, <span style=\"color: #00af00; text-decoration-color: #00af00\">52</span>, <span style=\"color: #00af00; text-decoration-color: #00af00\">52</span>, <span style=\"color: #00af00; text-decoration-color: #00af00\">128</span>)    │        <span style=\"color: #00af00; text-decoration-color: #00af00\">73,856</span> │\n",
              "├─────────────────────────────────┼────────────────────────┼───────────────┤\n",
              "│ max_pooling2d_2 (<span style=\"color: #0087ff; text-decoration-color: #0087ff\">MaxPooling2D</span>)  │ (<span style=\"color: #00d7ff; text-decoration-color: #00d7ff\">None</span>, <span style=\"color: #00af00; text-decoration-color: #00af00\">26</span>, <span style=\"color: #00af00; text-decoration-color: #00af00\">26</span>, <span style=\"color: #00af00; text-decoration-color: #00af00\">128</span>)    │             <span style=\"color: #00af00; text-decoration-color: #00af00\">0</span> │\n",
              "├─────────────────────────────────┼────────────────────────┼───────────────┤\n",
              "│ flatten (<span style=\"color: #0087ff; text-decoration-color: #0087ff\">Flatten</span>)               │ (<span style=\"color: #00d7ff; text-decoration-color: #00d7ff\">None</span>, <span style=\"color: #00af00; text-decoration-color: #00af00\">86528</span>)          │             <span style=\"color: #00af00; text-decoration-color: #00af00\">0</span> │\n",
              "├─────────────────────────────────┼────────────────────────┼───────────────┤\n",
              "│ dense (<span style=\"color: #0087ff; text-decoration-color: #0087ff\">Dense</span>)                   │ (<span style=\"color: #00d7ff; text-decoration-color: #00d7ff\">None</span>, <span style=\"color: #00af00; text-decoration-color: #00af00\">128</span>)            │    <span style=\"color: #00af00; text-decoration-color: #00af00\">11,075,712</span> │\n",
              "├─────────────────────────────────┼────────────────────────┼───────────────┤\n",
              "│ dropout (<span style=\"color: #0087ff; text-decoration-color: #0087ff\">Dropout</span>)               │ (<span style=\"color: #00d7ff; text-decoration-color: #00d7ff\">None</span>, <span style=\"color: #00af00; text-decoration-color: #00af00\">128</span>)            │             <span style=\"color: #00af00; text-decoration-color: #00af00\">0</span> │\n",
              "├─────────────────────────────────┼────────────────────────┼───────────────┤\n",
              "│ dense_1 (<span style=\"color: #0087ff; text-decoration-color: #0087ff\">Dense</span>)                 │ (<span style=\"color: #00d7ff; text-decoration-color: #00d7ff\">None</span>, <span style=\"color: #00af00; text-decoration-color: #00af00\">1</span>)              │           <span style=\"color: #00af00; text-decoration-color: #00af00\">129</span> │\n",
              "└─────────────────────────────────┴────────────────────────┴───────────────┘\n",
              "</pre>\n"
            ]
          },
          "metadata": {}
        },
        {
          "output_type": "display_data",
          "data": {
            "text/plain": [
              "\u001b[1m Total params: \u001b[0m\u001b[38;5;34m11,169,089\u001b[0m (42.61 MB)\n"
            ],
            "text/html": [
              "<pre style=\"white-space:pre;overflow-x:auto;line-height:normal;font-family:Menlo,'DejaVu Sans Mono',consolas,'Courier New',monospace\"><span style=\"font-weight: bold\"> Total params: </span><span style=\"color: #00af00; text-decoration-color: #00af00\">11,169,089</span> (42.61 MB)\n",
              "</pre>\n"
            ]
          },
          "metadata": {}
        },
        {
          "output_type": "display_data",
          "data": {
            "text/plain": [
              "\u001b[1m Trainable params: \u001b[0m\u001b[38;5;34m11,169,089\u001b[0m (42.61 MB)\n"
            ],
            "text/html": [
              "<pre style=\"white-space:pre;overflow-x:auto;line-height:normal;font-family:Menlo,'DejaVu Sans Mono',consolas,'Courier New',monospace\"><span style=\"font-weight: bold\"> Trainable params: </span><span style=\"color: #00af00; text-decoration-color: #00af00\">11,169,089</span> (42.61 MB)\n",
              "</pre>\n"
            ]
          },
          "metadata": {}
        },
        {
          "output_type": "display_data",
          "data": {
            "text/plain": [
              "\u001b[1m Non-trainable params: \u001b[0m\u001b[38;5;34m0\u001b[0m (0.00 B)\n"
            ],
            "text/html": [
              "<pre style=\"white-space:pre;overflow-x:auto;line-height:normal;font-family:Menlo,'DejaVu Sans Mono',consolas,'Courier New',monospace\"><span style=\"font-weight: bold\"> Non-trainable params: </span><span style=\"color: #00af00; text-decoration-color: #00af00\">0</span> (0.00 B)\n",
              "</pre>\n"
            ]
          },
          "metadata": {}
        }
      ]
    },
    {
      "cell_type": "markdown",
      "source": [
        "### Step - 03: Using CNN\n",
        "\n",
        "I used CNN to check how efficiently the algorithm is. Here is a brief summary:\n",
        "\n",
        "1. The algorithm takes approximately 20 minutes to perform the operation.\n",
        "2. The test accuracy is 94.21% and Loss is 0.4525"
      ],
      "metadata": {
        "id": "a0JscYcMLU0m"
      }
    },
    {
      "cell_type": "code",
      "source": [
        "history = model.fit(\n",
        "    train_generator,\n",
        "    epochs=10,\n",
        "    validation_data=test_generator\n",
        ")\n",
        "\n",
        "\n",
        "test_loss, test_accuracy = model.evaluate(test_generator)\n",
        "print(f'Test Accuracy: {test_accuracy * 100:.2f}%')\n",
        "\n",
        "plt.figure(figsize=(12, 4))\n",
        "plt.subplot(1, 2, 1)\n",
        "plt.plot(history.history['accuracy'], label='Training Accuracy')\n",
        "plt.plot(history.history['val_accuracy'], label='Validation Accuracy')\n",
        "plt.xlabel('Epochs')\n",
        "plt.ylabel('Accuracy')\n",
        "plt.title('Training and Validation Accuracy')\n",
        "plt.legend()\n",
        "\n",
        "plt.subplot(1, 2, 2)\n",
        "plt.plot(history.history['loss'], label='Training Loss')\n",
        "plt.plot(history.history['val_loss'], label='Validation Loss')\n",
        "plt.xlabel('Epochs')\n",
        "plt.ylabel('Loss')\n",
        "plt.title('Training and Validation Loss')\n",
        "plt.legend()\n",
        "\n",
        "plt.show()\n",
        "\n",
        "\n",
        "test_loss, test_accuracy = model.evaluate(test_generator)\n",
        "print(f'Test Accuracy: {test_accuracy * 100:.2f}%')"
      ],
      "metadata": {
        "colab": {
          "base_uri": "https://localhost:8080/",
          "height": 881
        },
        "id": "faTGxyXlw1Sk",
        "outputId": "5e115e1f-184c-4b68-8944-6ba865d923a9"
      },
      "execution_count": 12,
      "outputs": [
        {
          "output_type": "stream",
          "name": "stderr",
          "text": [
            "/usr/local/lib/python3.11/dist-packages/keras/src/trainers/data_adapters/py_dataset_adapter.py:121: UserWarning: Your `PyDataset` class should call `super().__init__(**kwargs)` in its constructor. `**kwargs` can include `workers`, `use_multiprocessing`, `max_queue_size`. Do not pass these arguments to `fit()`, as they will be ignored.\n",
            "  self._warn_if_super_not_called()\n"
          ]
        },
        {
          "output_type": "stream",
          "name": "stdout",
          "text": [
            "Epoch 1/10\n",
            "\u001b[1m16/16\u001b[0m \u001b[32m━━━━━━━━━━━━━━━━━━━━\u001b[0m\u001b[37m\u001b[0m \u001b[1m82s\u001b[0m 5s/step - accuracy: 0.5352 - loss: 0.8563 - val_accuracy: 0.5124 - val_loss: 0.6417\n",
            "Epoch 2/10\n",
            "\u001b[1m16/16\u001b[0m \u001b[32m━━━━━━━━━━━━━━━━━━━━\u001b[0m\u001b[37m\u001b[0m \u001b[1m77s\u001b[0m 5s/step - accuracy: 0.6471 - loss: 0.6111 - val_accuracy: 0.8182 - val_loss: 0.3856\n",
            "Epoch 3/10\n",
            "\u001b[1m16/16\u001b[0m \u001b[32m━━━━━━━━━━━━━━━━━━━━\u001b[0m\u001b[37m\u001b[0m \u001b[1m77s\u001b[0m 5s/step - accuracy: 0.8343 - loss: 0.4788 - val_accuracy: 0.7851 - val_loss: 0.4723\n",
            "Epoch 4/10\n",
            "\u001b[1m16/16\u001b[0m \u001b[32m━━━━━━━━━━━━━━━━━━━━\u001b[0m\u001b[37m\u001b[0m \u001b[1m78s\u001b[0m 5s/step - accuracy: 0.8009 - loss: 0.4093 - val_accuracy: 0.8512 - val_loss: 0.4044\n",
            "Epoch 5/10\n",
            "\u001b[1m16/16\u001b[0m \u001b[32m━━━━━━━━━━━━━━━━━━━━\u001b[0m\u001b[37m\u001b[0m \u001b[1m74s\u001b[0m 4s/step - accuracy: 0.8802 - loss: 0.3283 - val_accuracy: 0.7603 - val_loss: 0.5091\n",
            "Epoch 6/10\n",
            "\u001b[1m16/16\u001b[0m \u001b[32m━━━━━━━━━━━━━━━━━━━━\u001b[0m\u001b[37m\u001b[0m \u001b[1m89s\u001b[0m 5s/step - accuracy: 0.8700 - loss: 0.3302 - val_accuracy: 0.9008 - val_loss: 0.3648\n",
            "Epoch 7/10\n",
            "\u001b[1m16/16\u001b[0m \u001b[32m━━━━━━━━━━━━━━━━━━━━\u001b[0m\u001b[37m\u001b[0m \u001b[1m75s\u001b[0m 5s/step - accuracy: 0.9284 - loss: 0.2153 - val_accuracy: 0.8595 - val_loss: 0.3463\n",
            "Epoch 8/10\n",
            "\u001b[1m16/16\u001b[0m \u001b[32m━━━━━━━━━━━━━━━━━━━━\u001b[0m\u001b[37m\u001b[0m \u001b[1m77s\u001b[0m 5s/step - accuracy: 0.9346 - loss: 0.1766 - val_accuracy: 0.9008 - val_loss: 0.3780\n",
            "Epoch 9/10\n",
            "\u001b[1m16/16\u001b[0m \u001b[32m━━━━━━━━━━━━━━━━━━━━\u001b[0m\u001b[37m\u001b[0m \u001b[1m73s\u001b[0m 5s/step - accuracy: 0.9281 - loss: 0.1761 - val_accuracy: 0.9174 - val_loss: 0.3694\n",
            "Epoch 10/10\n",
            "\u001b[1m16/16\u001b[0m \u001b[32m━━━━━━━━━━━━━━━━━━━━\u001b[0m\u001b[37m\u001b[0m \u001b[1m75s\u001b[0m 5s/step - accuracy: 0.9634 - loss: 0.1164 - val_accuracy: 0.9256 - val_loss: 0.4189\n",
            "\u001b[1m4/4\u001b[0m \u001b[32m━━━━━━━━━━━━━━━━━━━━\u001b[0m\u001b[37m\u001b[0m \u001b[1m7s\u001b[0m 2s/step - accuracy: 0.9380 - loss: 0.5259\n",
            "Test Accuracy: 92.56%\n"
          ]
        },
        {
          "output_type": "display_data",
          "data": {
            "text/plain": [
              "<Figure size 1200x400 with 2 Axes>"
            ],
            "image/png": "[encoded data removed]"
          },
          "metadata": {}
        },
        {
          "output_type": "stream",
          "name": "stdout",
          "text": [
            "\u001b[1m4/4\u001b[0m \u001b[32m━━━━━━━━━━━━━━━━━━━━\u001b[0m\u001b[37m\u001b[0m \u001b[1m8s\u001b[0m 1s/step - accuracy: 0.9327 - loss: 0.5125\n",
            "Test Accuracy: 92.56%\n"
          ]
        }
      ]
    },
    {
      "cell_type": "markdown",
      "source": [
        "### Step - 04: Using VGG19\n",
        "\n",
        "Using VGG19 has it's own benefits over VGG16. \\\n",
        "Here is the summary:\n",
        "1. The algorithm took approximately 1 hour 30 minutes to complete the opeartion.\n",
        "2. The Test accuracy is 95.04% and the loss is 0.1202."
      ],
      "metadata": {
        "id": "5EWXX2PhNrw8"
      }
    },
    {
      "cell_type": "code",
      "source": [
        "from tensorflow.keras.optimizers import Adam\n",
        "input_shape = (224, 224, 3)\n",
        "\n",
        "\n",
        "base_model = VGG19(weights='imagenet', include_top=False, input_shape=input_shape)\n",
        "\n",
        "for layer in base_model.layers:\n",
        "    layer.trainable = False\n",
        "\n",
        "\n",
        "model = Sequential([\n",
        "    base_model,\n",
        "    Flatten(),\n",
        "    Dense(128, activation='relu'),\n",
        "    Dropout(0.5),\n",
        "    Dense(1, activation='sigmoid')\n",
        "])\n",
        "\n",
        "model.compile(optimizer=Adam(learning_rate=0.0001), loss='binary_crossentropy', metrics=['accuracy'])\n",
        "\n",
        "\n",
        "model.summary()\n",
        "\n",
        "\n",
        "history = model.fit(\n",
        "    train_generator,\n",
        "    epochs=10,\n",
        "    validation_data=test_generator\n",
        ")\n",
        "\n",
        "\n",
        "plt.figure(figsize=(12, 4))\n",
        "plt.subplot(1, 2, 1)\n",
        "plt.plot(history.history['accuracy'], label='Training Accuracy')\n",
        "plt.plot(history.history['val_accuracy'], label='Validation Accuracy')\n",
        "plt.xlabel('Epochs')\n",
        "plt.ylabel('Accuracy')\n",
        "plt.title('Training and Validation Accuracy')\n",
        "plt.legend()\n",
        "\n",
        "\n",
        "plt.subplot(1, 2, 2)\n",
        "plt.plot(history.history['loss'], label='Training Loss')\n",
        "plt.plot(history.history['val_loss'], label='Validation Loss')\n",
        "plt.xlabel('Epochs')\n",
        "plt.ylabel('Loss')\n",
        "plt.title('Training and Validation Loss')\n",
        "plt.legend()\n",
        "\n",
        "plt.show()\n",
        "\n",
        "test_loss, test_accuracy = model.evaluate(test_generator)\n",
        "print(f'Test Accuracy: {test_accuracy * 100:.2f}%')"
      ],
      "metadata": {
        "colab": {
          "base_uri": "https://localhost:8080/",
          "height": 1000
        },
        "id": "AGqiZUAJ1yK6",
        "outputId": "644c2b96-0bbc-4046-d774-51274fdb2815"
      },
      "execution_count": 34,
      "outputs": [
        {
          "data": {
            "text/html": [
              "<pre style=\"white-space:pre;overflow-x:auto;line-height:normal;font-family:Menlo,'DejaVu Sans Mono',consolas,'Courier New',monospace\"><span style=\"font-weight: bold\">Model: \"sequential_11\"</span>\n",
              "</pre>\n"
            ],
            "text/plain": [
              "\u001b[1mModel: \"sequential_11\"\u001b[0m\n"
            ]
          },
          "metadata": {},
          "output_type": "display_data"
        },
        {
          "data": {
            "text/html": [
              "<pre style=\"white-space:pre;overflow-x:auto;line-height:normal;font-family:Menlo,'DejaVu Sans Mono',consolas,'Courier New',monospace\">┏━━━━━━━━━━━━━━━━━━━━━━━━━━━━━━━━━┳━━━━━━━━━━━━━━━━━━━━━━━━┳━━━━━━━━━━━━━━━┓\n",
              "┃<span style=\"font-weight: bold\"> Layer (type)                    </span>┃<span style=\"font-weight: bold\"> Output Shape           </span>┃<span style=\"font-weight: bold\">       Param # </span>┃\n",
              "┡━━━━━━━━━━━━━━━━━━━━━━━━━━━━━━━━━╇━━━━━━━━━━━━━━━━━━━━━━━━╇━━━━━━━━━━━━━━━┩\n",
              "│ vgg19 (<span style=\"color: #0087ff; text-decoration-color: #0087ff\">Functional</span>)              │ (<span style=\"color: #00d7ff; text-decoration-color: #00d7ff\">None</span>, <span style=\"color: #00af00; text-decoration-color: #00af00\">7</span>, <span style=\"color: #00af00; text-decoration-color: #00af00\">7</span>, <span style=\"color: #00af00; text-decoration-color: #00af00\">512</span>)      │    <span style=\"color: #00af00; text-decoration-color: #00af00\">20,024,384</span> │\n",
              "├─────────────────────────────────┼────────────────────────┼───────────────┤\n",
              "│ flatten_11 (<span style=\"color: #0087ff; text-decoration-color: #0087ff\">Flatten</span>)            │ (<span style=\"color: #00d7ff; text-decoration-color: #00d7ff\">None</span>, <span style=\"color: #00af00; text-decoration-color: #00af00\">25088</span>)          │             <span style=\"color: #00af00; text-decoration-color: #00af00\">0</span> │\n",
              "├─────────────────────────────────┼────────────────────────┼───────────────┤\n",
              "│ dense_22 (<span style=\"color: #0087ff; text-decoration-color: #0087ff\">Dense</span>)                │ (<span style=\"color: #00d7ff; text-decoration-color: #00d7ff\">None</span>, <span style=\"color: #00af00; text-decoration-color: #00af00\">128</span>)            │     <span style=\"color: #00af00; text-decoration-color: #00af00\">3,211,392</span> │\n",
              "├─────────────────────────────────┼────────────────────────┼───────────────┤\n",
              "│ dropout_11 (<span style=\"color: #0087ff; text-decoration-color: #0087ff\">Dropout</span>)            │ (<span style=\"color: #00d7ff; text-decoration-color: #00d7ff\">None</span>, <span style=\"color: #00af00; text-decoration-color: #00af00\">128</span>)            │             <span style=\"color: #00af00; text-decoration-color: #00af00\">0</span> │\n",
              "├─────────────────────────────────┼────────────────────────┼───────────────┤\n",
              "│ dense_23 (<span style=\"color: #0087ff; text-decoration-color: #0087ff\">Dense</span>)                │ (<span style=\"color: #00d7ff; text-decoration-color: #00d7ff\">None</span>, <span style=\"color: #00af00; text-decoration-color: #00af00\">1</span>)              │           <span style=\"color: #00af00; text-decoration-color: #00af00\">129</span> │\n",
              "└─────────────────────────────────┴────────────────────────┴───────────────┘\n",
              "</pre>\n"
            ],
            "text/plain": [
              "┏━━━━━━━━━━━━━━━━━━━━━━━━━━━━━━━━━┳━━━━━━━━━━━━━━━━━━━━━━━━┳━━━━━━━━━━━━━━━┓\n",
              "┃\u001b[1m \u001b[0m\u001b[1mLayer (type)                   \u001b[0m\u001b[1m \u001b[0m┃\u001b[1m \u001b[0m\u001b[1mOutput Shape          \u001b[0m\u001b[1m \u001b[0m┃\u001b[1m \u001b[0m\u001b[1m      Param #\u001b[0m\u001b[1m \u001b[0m┃\n",
              "┡━━━━━━━━━━━━━━━━━━━━━━━━━━━━━━━━━╇━━━━━━━━━━━━━━━━━━━━━━━━╇━━━━━━━━━━━━━━━┩\n",
              "│ vgg19 (\u001b[38;5;33mFunctional\u001b[0m)              │ (\u001b[38;5;45mNone\u001b[0m, \u001b[38;5;34m7\u001b[0m, \u001b[38;5;34m7\u001b[0m, \u001b[38;5;34m512\u001b[0m)      │    \u001b[38;5;34m20,024,384\u001b[0m │\n",
              "├─────────────────────────────────┼────────────────────────┼───────────────┤\n",
              "│ flatten_11 (\u001b[38;5;33mFlatten\u001b[0m)            │ (\u001b[38;5;45mNone\u001b[0m, \u001b[38;5;34m25088\u001b[0m)          │             \u001b[38;5;34m0\u001b[0m │\n",
              "├─────────────────────────────────┼────────────────────────┼───────────────┤\n",
              "│ dense_22 (\u001b[38;5;33mDense\u001b[0m)                │ (\u001b[38;5;45mNone\u001b[0m, \u001b[38;5;34m128\u001b[0m)            │     \u001b[38;5;34m3,211,392\u001b[0m │\n",
              "├─────────────────────────────────┼────────────────────────┼───────────────┤\n",
              "│ dropout_11 (\u001b[38;5;33mDropout\u001b[0m)            │ (\u001b[38;5;45mNone\u001b[0m, \u001b[38;5;34m128\u001b[0m)            │             \u001b[38;5;34m0\u001b[0m │\n",
              "├─────────────────────────────────┼────────────────────────┼───────────────┤\n",
              "│ dense_23 (\u001b[38;5;33mDense\u001b[0m)                │ (\u001b[38;5;45mNone\u001b[0m, \u001b[38;5;34m1\u001b[0m)              │           \u001b[38;5;34m129\u001b[0m │\n",
              "└─────────────────────────────────┴────────────────────────┴───────────────┘\n"
            ]
          },
          "metadata": {},
          "output_type": "display_data"
        },
        {
          "data": {
            "text/html": [
              "<pre style=\"white-space:pre;overflow-x:auto;line-height:normal;font-family:Menlo,'DejaVu Sans Mono',consolas,'Courier New',monospace\"><span style=\"font-weight: bold\"> Total params: </span><span style=\"color: #00af00; text-decoration-color: #00af00\">23,235,905</span> (88.64 MB)\n",
              "</pre>\n"
            ],
            "text/plain": [
              "\u001b[1m Total params: \u001b[0m\u001b[38;5;34m23,235,905\u001b[0m (88.64 MB)\n"
            ]
          },
          "metadata": {},
          "output_type": "display_data"
        },
        {
          "data": {
            "text/html": [
              "<pre style=\"white-space:pre;overflow-x:auto;line-height:normal;font-family:Menlo,'DejaVu Sans Mono',consolas,'Courier New',monospace\"><span style=\"font-weight: bold\"> Trainable params: </span><span style=\"color: #00af00; text-decoration-color: #00af00\">3,211,521</span> (12.25 MB)\n",
              "</pre>\n"
            ],
            "text/plain": [
              "\u001b[1m Trainable params: \u001b[0m\u001b[38;5;34m3,211,521\u001b[0m (12.25 MB)\n"
            ]
          },
          "metadata": {},
          "output_type": "display_data"
        },
        {
          "data": {
            "text/html": [
              "<pre style=\"white-space:pre;overflow-x:auto;line-height:normal;font-family:Menlo,'DejaVu Sans Mono',consolas,'Courier New',monospace\"><span style=\"font-weight: bold\"> Non-trainable params: </span><span style=\"color: #00af00; text-decoration-color: #00af00\">20,024,384</span> (76.39 MB)\n",
              "</pre>\n"
            ],
            "text/plain": [
              "\u001b[1m Non-trainable params: \u001b[0m\u001b[38;5;34m20,024,384\u001b[0m (76.39 MB)\n"
            ]
          },
          "metadata": {},
          "output_type": "display_data"
        },
        {
          "output_type": "stream",
          "name": "stdout",
          "text": [
            "Epoch 1/10\n",
            "\u001b[1m16/16\u001b[0m \u001b[32m━━━━━━━━━━━━━━━━━━━━\u001b[0m\u001b[37m\u001b[0m \u001b[1m485s\u001b[0m 30s/step - accuracy: 0.5789 - loss: 0.7553 - val_accuracy: 0.9091 - val_loss: 0.2702\n",
            "Epoch 2/10\n",
            "\u001b[1m16/16\u001b[0m \u001b[32m━━━━━━━━━━━━━━━━━━━━\u001b[0m\u001b[37m\u001b[0m \u001b[1m480s\u001b[0m 30s/step - accuracy: 0.8475 - loss: 0.3732 - val_accuracy: 0.9421 - val_loss: 0.1853\n",
            "Epoch 3/10\n",
            "\u001b[1m16/16\u001b[0m \u001b[32m━━━━━━━━━━━━━━━━━━━━\u001b[0m\u001b[37m\u001b[0m \u001b[1m525s\u001b[0m 33s/step - accuracy: 0.9195 - loss: 0.2456 - val_accuracy: 0.9421 - val_loss: 0.1564\n",
            "Epoch 4/10\n",
            "\u001b[1m16/16\u001b[0m \u001b[32m━━━━━━━━━━━━━━━━━━━━\u001b[0m\u001b[37m\u001b[0m \u001b[1m479s\u001b[0m 30s/step - accuracy: 0.9308 - loss: 0.1899 - val_accuracy: 0.9504 - val_loss: 0.1435\n",
            "Epoch 5/10\n",
            "\u001b[1m16/16\u001b[0m \u001b[32m━━━━━━━━━━━━━━━━━━━━\u001b[0m\u001b[37m\u001b[0m \u001b[1m483s\u001b[0m 30s/step - accuracy: 0.9372 - loss: 0.1624 - val_accuracy: 0.9421 - val_loss: 0.1387\n",
            "Epoch 6/10\n",
            "\u001b[1m16/16\u001b[0m \u001b[32m━━━━━━━━━━━━━━━━━━━━\u001b[0m\u001b[37m\u001b[0m \u001b[1m478s\u001b[0m 30s/step - accuracy: 0.9568 - loss: 0.1380 - val_accuracy: 0.9504 - val_loss: 0.1216\n",
            "Epoch 7/10\n",
            "\u001b[1m16/16\u001b[0m \u001b[32m━━━━━━━━━━━━━━━━━━━━\u001b[0m\u001b[37m\u001b[0m \u001b[1m548s\u001b[0m 33s/step - accuracy: 0.9608 - loss: 0.1170 - val_accuracy: 0.9587 - val_loss: 0.1201\n",
            "Epoch 8/10\n",
            "\u001b[1m16/16\u001b[0m \u001b[32m━━━━━━━━━━━━━━━━━━━━\u001b[0m\u001b[37m\u001b[0m \u001b[1m475s\u001b[0m 30s/step - accuracy: 0.9725 - loss: 0.0962 - val_accuracy: 0.9587 - val_loss: 0.1172\n",
            "Epoch 9/10\n",
            "\u001b[1m16/16\u001b[0m \u001b[32m━━━━━━━━━━━━━━━━━━━━\u001b[0m\u001b[37m\u001b[0m \u001b[1m479s\u001b[0m 30s/step - accuracy: 0.9777 - loss: 0.0964 - val_accuracy: 0.9587 - val_loss: 0.1120\n",
            "Epoch 10/10\n",
            "\u001b[1m16/16\u001b[0m \u001b[32m━━━━━━━━━━━━━━━━━━━━\u001b[0m\u001b[37m\u001b[0m \u001b[1m545s\u001b[0m 34s/step - accuracy: 0.9913 - loss: 0.0764 - val_accuracy: 0.9504 - val_loss: 0.1116\n"
          ]
        },
        {
          "output_type": "display_data",
          "data": {
            "text/plain": [
              "<Figure size 1200x400 with 2 Axes>"
            ],
            "image/png": "[encoded data removed]"
          },
          "metadata": {}
        },
        {
          "output_type": "stream",
          "name": "stdout",
          "text": [
            "\u001b[1m4/4\u001b[0m \u001b[32m━━━━━━━━━━━━━━━━━━━━\u001b[0m\u001b[37m\u001b[0m \u001b[1m94s\u001b[0m 23s/step - accuracy: 0.9572 - loss: 0.1060\n",
            "Test Accuracy: 95.04%\n"
          ]
        }
      ]
    },
    {
      "cell_type": "markdown",
      "source": [
        "# Conclusion\n",
        "\n",
        "1. CNN and VGG19 have similar test accuracy.\n",
        "2. CNN proves unefficient in terms of loss.\n",
        "3. VGG19 is not time efficient for multiple reasons."
      ],
      "metadata": {
        "id": "HlZ3E_iiOf_t"
      }
    }
  ]
}